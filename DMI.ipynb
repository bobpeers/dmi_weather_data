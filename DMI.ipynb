{
 "cells": [
  {
   "cell_type": "markdown",
   "metadata": {},
   "source": [
    "# DMI Weather Data (only the data 👨‍💻)\n",
    "\n",
    "Scrapes DMI weather forcasts from [https://dmi.dk/](https://dmi.dk/)"
   ]
  },
  {
   "cell_type": "markdown",
   "metadata": {},
   "source": [
    "Load modules, selenium is used for rendering and requires a WebDriver.\n",
    "Download [http://chromedriver.chromium.org/](chromedriver) or [https://github.com/mozilla/geckodriver/releases](geckodriver)\n"
   ]
  },
  {
   "cell_type": "code",
   "execution_count": 1,
   "metadata": {},
   "outputs": [],
   "source": [
    "import os\n",
    "import re\n",
    "import numpy as np\n",
    "import pandas as pd\n",
    "from bs4 import BeautifulSoup as bs\n",
    "from selenium import webdriver\n",
    "from time import sleep\n",
    "import datetime\n",
    "from selenium.webdriver.chrome.options import Options\n",
    "import seaborn as sea\n",
    "import matplotlib.pyplot as plt\n",
    "from IPython.display import display, HTML\n",
    "\n",
    "options = Options()\n",
    "options.add_argument(\"--headless\")\n",
    "options.add_argument(\"--disable-gpu\")\n",
    "sea.set_palette(sea.cubehelix_palette(8, start=.5, rot=-.75))"
   ]
  },
  {
   "cell_type": "markdown",
   "metadata": {},
   "source": [
    "Load web page and use Beautiful soup to parse. Stores vales in pandas dataframe."
   ]
  },
  {
   "cell_type": "code",
   "execution_count": 2,
   "metadata": {},
   "outputs": [],
   "source": [
    "url = 'https://www.dmi.dk/lokation/show/DK/2618425/K%C3%B8benhavn/'\n",
    "driver = webdriver.Chrome(options=options, \\\n",
    "        executable_path=\"C:\\\\Users\\\\rpe\\\\AppData\\\\Local\\\\Chromedriver\\\\chromedriver.exe\")\n",
    "driver.get(url)\n",
    "sleep(4)\n",
    "data = driver.page_source\n",
    "soup = bs(data, 'html.parser')\n",
    "driver.close()"
   ]
  },
  {
   "cell_type": "code",
   "execution_count": 3,
   "metadata": {
    "scrolled": true
   },
   "outputs": [
    {
     "data": {
      "text/html": [
       "<div>\n",
       "<style scoped>\n",
       "    .dataframe tbody tr th:only-of-type {\n",
       "        vertical-align: middle;\n",
       "    }\n",
       "\n",
       "    .dataframe tbody tr th {\n",
       "        vertical-align: top;\n",
       "    }\n",
       "\n",
       "    .dataframe thead th {\n",
       "        text-align: right;\n",
       "    }\n",
       "</style>\n",
       "<table border=\"1\" class=\"dataframe\">\n",
       "  <thead>\n",
       "    <tr style=\"text-align: right;\">\n",
       "      <th></th>\n",
       "      <th>Timestamp</th>\n",
       "      <th>Temperature</th>\n",
       "      <th>Rain</th>\n",
       "      <th>Wind</th>\n",
       "      <th>WindGust</th>\n",
       "    </tr>\n",
       "  </thead>\n",
       "  <tbody>\n",
       "    <tr>\n",
       "      <th>0</th>\n",
       "      <td>2019-02-22 23:00:00</td>\n",
       "      <td>1</td>\n",
       "      <td></td>\n",
       "      <td>3</td>\n",
       "      <td>7</td>\n",
       "    </tr>\n",
       "    <tr>\n",
       "      <th>1</th>\n",
       "      <td>2019-02-23 00:00:00</td>\n",
       "      <td>1</td>\n",
       "      <td></td>\n",
       "      <td>3</td>\n",
       "      <td>4</td>\n",
       "    </tr>\n",
       "    <tr>\n",
       "      <th>2</th>\n",
       "      <td>2019-02-23 01:00:00</td>\n",
       "      <td>1</td>\n",
       "      <td></td>\n",
       "      <td>3</td>\n",
       "      <td>5</td>\n",
       "    </tr>\n",
       "    <tr>\n",
       "      <th>3</th>\n",
       "      <td>2019-02-23 02:00:00</td>\n",
       "      <td>1</td>\n",
       "      <td></td>\n",
       "      <td>3</td>\n",
       "      <td>5</td>\n",
       "    </tr>\n",
       "    <tr>\n",
       "      <th>4</th>\n",
       "      <td>2019-02-23 03:00:00</td>\n",
       "      <td>1</td>\n",
       "      <td></td>\n",
       "      <td>3</td>\n",
       "      <td>5</td>\n",
       "    </tr>\n",
       "    <tr>\n",
       "      <th>5</th>\n",
       "      <td>2019-02-23 04:00:00</td>\n",
       "      <td>1</td>\n",
       "      <td></td>\n",
       "      <td>3</td>\n",
       "      <td>5</td>\n",
       "    </tr>\n",
       "    <tr>\n",
       "      <th>6</th>\n",
       "      <td>2019-02-23 05:00:00</td>\n",
       "      <td>1</td>\n",
       "      <td></td>\n",
       "      <td>2</td>\n",
       "      <td>6</td>\n",
       "    </tr>\n",
       "    <tr>\n",
       "      <th>7</th>\n",
       "      <td>2019-02-23 06:00:00</td>\n",
       "      <td>1</td>\n",
       "      <td></td>\n",
       "      <td>2</td>\n",
       "      <td>5</td>\n",
       "    </tr>\n",
       "    <tr>\n",
       "      <th>8</th>\n",
       "      <td>2019-02-23 07:00:00</td>\n",
       "      <td>1</td>\n",
       "      <td></td>\n",
       "      <td>3</td>\n",
       "      <td>4</td>\n",
       "    </tr>\n",
       "    <tr>\n",
       "      <th>9</th>\n",
       "      <td>2019-02-23 08:00:00</td>\n",
       "      <td>1</td>\n",
       "      <td></td>\n",
       "      <td>3</td>\n",
       "      <td>4</td>\n",
       "    </tr>\n",
       "  </tbody>\n",
       "</table>\n",
       "</div>"
      ],
      "text/plain": [
       "            Timestamp  Temperature Rain  Wind  WindGust\n",
       "0 2019-02-22 23:00:00            1          3         7\n",
       "1 2019-02-23 00:00:00            1          3         4\n",
       "2 2019-02-23 01:00:00            1          3         5\n",
       "3 2019-02-23 02:00:00            1          3         5\n",
       "4 2019-02-23 03:00:00            1          3         5\n",
       "5 2019-02-23 04:00:00            1          3         5\n",
       "6 2019-02-23 05:00:00            1          2         6\n",
       "7 2019-02-23 06:00:00            1          2         5\n",
       "8 2019-02-23 07:00:00            1          3         4\n",
       "9 2019-02-23 08:00:00            1          3         4"
      ]
     },
     "execution_count": 3,
     "metadata": {},
     "output_type": "execute_result"
    }
   ],
   "source": [
    "item = soup.findAll(\"div\", {\"class\": \"eWWhzX\"})\n",
    "weather = []\n",
    "rain = ''\n",
    "import re\n",
    "wdate = datetime.datetime.now()\n",
    "lasthour = wdate.hour\n",
    "for i in item:\n",
    "    line = i.get_text()\n",
    "    stime = line[0:5]\n",
    "    hour = int(stime[:2])\n",
    "    time = datetime.datetime.strptime(stime, '%H:%M')\n",
    "    if hour < lasthour:\n",
    "        wdate += datetime.timedelta(days=1)\n",
    "    lasthour = hour\n",
    "#    print(line[5:])\n",
    "    temp = int(re.search('(\\d{1,3})°',line[5:]).group(1))\n",
    "    match = re.search('°(.*)mm',line[5:])\n",
    "    if match is not None:\n",
    "        rain = match.group(1)\n",
    "    wind = int(re.search('[m°](\\d{1,2})\\sm\\/s',line[5:]).group(1))\n",
    "    windgust = int(re.search('Vindstød\\s(\\d{1,2})\\sm\\/s',line[5:]).group(1))\n",
    "    \n",
    "    weather.append([datetime.datetime.combine(wdate, time.time()), temp,rain,wind,windgust])\n",
    "df = pd.DataFrame.from_records(weather, columns=['Timestamp', 'Temperature', 'Rain', 'Wind', 'WindGust'])\n",
    "df.head(10)"
   ]
  },
  {
   "cell_type": "code",
   "execution_count": 4,
   "metadata": {},
   "outputs": [
    {
     "data": {
      "image/png": "[encoded data removed]",
      "text/plain": [
       "<Figure size 1152x288 with 1 Axes>"
      ]
     },
     "metadata": {
      "needs_background": "light"
     },
     "output_type": "display_data"
    },
    {
     "data": {
      "image/png": "[encoded data removed]",
      "text/plain": [
       "<Figure size 1152x288 with 1 Axes>"
      ]
     },
     "metadata": {
      "needs_background": "light"
     },
     "output_type": "display_data"
    }
   ],
   "source": [
    "df['Date'] = df.apply(lambda x: datetime.datetime.strftime(x['Timestamp'],'%d-%m-%Y %H:%M'), axis=1)\n",
    "plt.rcParams[\"figure.figsize\"] =(16,4)\n",
    "ax = sea.barplot(y=\"Temperature\", hue=\"Temperature\", x=\"Date\", data=df.loc[1:24 ,])\n",
    "ax.set_ylabel('Temperature (°C)')\n",
    "#ax.set_xlabel('Time')\n",
    "ax.set_title(\"Hourly Tempertaures\") \n",
    "for item in ax.get_xticklabels():\n",
    "    item.set_rotation(90)\n",
    "plt.show()\n",
    "ax = sea.barplot(y=\"Wind\", x=\"Date\",hue=\"Wind\", data=df.loc[1:24 ,])\n",
    "ax.set_ylabel('Wind (m/s)')\n",
    "#ax.set_xlabel('Time')\n",
    "ax.set_title(\"Hourly Wind Speed\") \n",
    "for item in ax.get_xticklabels():\n",
    "    item.set_rotation(90)\n",
    "plt.show()"
   ]
  },
  {
   "cell_type": "markdown",
   "metadata": {},
   "source": [
    "Expolre the data"
   ]
  },
  {
   "cell_type": "code",
   "execution_count": null,
   "metadata": {
    "scrolled": true
   },
   "outputs": [],
   "source": [
    "display(HTML(df.to_html()))\n",
    "print(\"Number of lines: {}\".format(df.shape[0]))\n"
   ]
  },
  {
   "cell_type": "markdown",
   "metadata": {},
   "source": [
    "Summarize data"
   ]
  },
  {
   "cell_type": "code",
   "execution_count": 7,
   "metadata": {},
   "outputs": [
    {
     "data": {
      "text/html": [
       "<div>\n",
       "<style scoped>\n",
       "    .dataframe tbody tr th:only-of-type {\n",
       "        vertical-align: middle;\n",
       "    }\n",
       "\n",
       "    .dataframe tbody tr th {\n",
       "        vertical-align: top;\n",
       "    }\n",
       "\n",
       "    .dataframe thead th {\n",
       "        text-align: right;\n",
       "    }\n",
       "</style>\n",
       "<table border=\"1\" class=\"dataframe\">\n",
       "  <thead>\n",
       "    <tr style=\"text-align: right;\">\n",
       "      <th></th>\n",
       "      <th>Temperature</th>\n",
       "    </tr>\n",
       "  </thead>\n",
       "  <tbody>\n",
       "    <tr>\n",
       "      <th>amin</th>\n",
       "      <td>1</td>\n",
       "    </tr>\n",
       "    <tr>\n",
       "      <th>amax</th>\n",
       "      <td>11</td>\n",
       "    </tr>\n",
       "  </tbody>\n",
       "</table>\n",
       "</div>"
      ],
      "text/plain": [
       "      Temperature\n",
       "amin            1\n",
       "amax           11"
      ]
     },
     "execution_count": 7,
     "metadata": {},
     "output_type": "execute_result"
    }
   ],
   "source": [
    "df1 = df\n",
    "df1['Date'] = df1.apply(lambda x: datetime.datetime.strftime(x['Timestamp'],'%d-%m-%Y'), axis=1)\n",
    "df.groupby('Date')['Temperature'].min()\n",
    "\n",
    "df1.agg({'Temperature' : [np.min, np.max]})"
   ]
  },
  {
   "cell_type": "code",
   "execution_count": null,
   "metadata": {},
   "outputs": [],
   "source": []
  }
 ],
 "metadata": {
  "kernelspec": {
   "display_name": "Python 3",
   "language": "python",
   "name": "python3"
  },
  "language_info": {
   "codemirror_mode": {
    "name": "ipython",
    "version": 3
   },
   "file_extension": ".py",
   "mimetype": "text/x-python",
   "name": "python",
   "nbconvert_exporter": "python",
   "pygments_lexer": "ipython3",
   "version": "3.5.1"
  }
 },
 "nbformat": 4,
 "nbformat_minor": 2
}
